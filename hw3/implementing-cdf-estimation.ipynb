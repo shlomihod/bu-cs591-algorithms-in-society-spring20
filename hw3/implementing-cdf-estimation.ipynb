{
 "cells": [
  {
   "cell_type": "markdown",
   "metadata": {},
   "source": [
    "# Question 2 - Implementing CDF Estimatio"
   ]
  },
  {
   "cell_type": "code",
   "execution_count": null,
   "metadata": {},
   "outputs": [],
   "source": [
    "from collections import OrderedDict\n",
    "\n",
    "import numpy as np\n",
    "import pandas as pd\n",
    "import matplotlib.pylab as plt\n",
    "import seaborn as sns\n",
    "from tqdm import tqdm\n",
    "from scipy import stats"
   ]
  },
  {
   "cell_type": "markdown",
   "metadata": {},
   "source": [
    "## 2.1 Simple Histogram CDF Algorithm Implementation"
   ]
  },
  {
   "cell_type": "code",
   "execution_count": null,
   "metadata": {},
   "outputs": [],
   "source": [
    "FLOAT_EPS = 1e-8\n",
    "\n",
    "\n",
    "def _get_bin_index(t, bins):\n",
    "    \"\"\"Compute the index of bin\"\"\"\n",
    "    return (np.floor(t * bins) + FLOAT_EPS).astype(int)\n",
    "\n",
    "\n",
    "def true_CDF(x):\n",
    "    \"\"\"True CDF factory.\"\"\"\n",
    "    \n",
    "    x = np.array(x)\n",
    "    x.sort()  # Empirically, sorting tha array makes the function run faster\n",
    "\n",
    "    def cdf(t):\n",
    "        # Using SciPy function is slightly faster than np.mean(x <= t)\n",
    "        return stats.percentileofscore(x, t)/100 \n",
    "    return cdf\n",
    "\n",
    "    \n",
    "def simple_histogram_CDF(x, alpha, epsilon, is_alpha_log_half=True):\n",
    "    \"\"\"Build CDF according to the Simple Histogram algorithm.\"\"\"\n",
    "    \n",
    "    x = np.array(x)\n",
    "    \n",
    "    if is_alpha_log_half:\n",
    "        alpha = (1/2)**alpha\n",
    "\n",
    "    assert (0 < alpha < 1) and (1/alpha).is_integer()\n",
    "    \n",
    "    bins = int(1/alpha)\n",
    "    hist_values, _ = np.histogram(x, bins, range=(0,1))\n",
    "    normalized_hist_values = hist_values / len(x)\n",
    "    \n",
    "    laplacian_noise =  np.random.laplace(loc=0, scale=2/(epsilon * len(x)), size=bins)\n",
    "    noisy_hist = normalized_hist_values + laplacian_noise\n",
    "\n",
    "    cumulative_noisy_hist = np.insert(np.cumsum(noisy_hist),\n",
    "                                      0, 0)\n",
    "\n",
    "    def cdf_hat(t):        \n",
    "        bin_index = _get_bin_index(t, bins)\n",
    "        up_to_part = cumulative_noisy_hist[bin_index]\n",
    "        last_bin_part = (t/alpha - bin_index) * noisy_hist[bin_index]\n",
    "        \n",
    "        return up_to_part + last_bin_part\n",
    "    \n",
    "    return noisy_hist, cdf_hat\n",
    "    \n",
    "\n",
    "def generate_data(size):\n",
    "    return np.clip(np.random.normal(0.7, 0.01, size), 0, 0.99)\n",
    "\n",
    "\n",
    "def compute_error(cdf1, cdf2, x, resolution, is_resolution_log_half):\n",
    "    \"\"\"Compute the maximum errors between two CDFs on datapoints and points by interval resolution.\"\"\"\n",
    "    \n",
    "    if is_resolution_log_half:\n",
    "        resolution = (1/2)**resolution\n",
    "\n",
    "    intervals = np.arange(0, 1, resolution)\n",
    "\n",
    "    interesting_points = np.concatenate((intervals, x))\n",
    "    interesting_points.sort()  # Empirically, sorting tha array makes the function run faster\n",
    "\n",
    "    cdf1_values = np.array([cdf1(t) for t in interesting_points])  # np.apply_along_axis(cdf1, 0, interesting_points)\n",
    "    cdf2_values = np.array([cdf2(t) for t in interesting_points])  # np.apply_along_axis(cdf2, 0, interesting_points)\n",
    "    \n",
    "    return np.max(np.abs(cdf1_values - cdf2_values))"
   ]
  },
  {
   "cell_type": "markdown",
   "metadata": {},
   "source": [
    "## 2.2 Simple Histogram CDF Algorithm Testing"
   ]
  },
  {
   "cell_type": "code",
   "execution_count": null,
   "metadata": {},
   "outputs": [],
   "source": [
    "def apply_experiment(cdf_hat_factory,\n",
    "                     parameter_values,\n",
    "                     parameter_name,\n",
    "                     n_exps=np.arange(2, 6),\n",
    "                     epsilon=0.5,\n",
    "                     n_trials=20,\n",
    "                     resolution=None):\n",
    "\n",
    "\n",
    "    results = []\n",
    "\n",
    "    for n_exp in tqdm(n_exps):\n",
    "        n = 10**n_exp\n",
    "        for parameter in parameter_values:\n",
    "            errs = []\n",
    "            \n",
    "            for _ in range(n_trials):\n",
    "                x = generate_data(n)                \n",
    "                \n",
    "                cdfh  = cdf_hat_factory(x, parameter, epsilon)\n",
    "                cdf = true_CDF(x)\n",
    "\n",
    "                errs.append(compute_error(cdf, cdfh, x, parameter))\n",
    "\n",
    "            results.append({'n': f'$10^{n_exp}$', parameter_name: parameter, 'err': np.mean(errs)})\n",
    "            \n",
    "    return pd.DataFrame(results)\n",
    "\n",
    "\n",
    "def plot_experiment(df, parameter_name, parameter_display, is_logx=False, figsize=(14, 7)):\n",
    "    _, axes = plt.subplots(1, 2, figsize=figsize)\n",
    "    \n",
    "    sns.lineplot(x=parameter_name, y='err', hue='n', data=df, ax=axes[0])\n",
    "    axes[0].set_xlabel(parameter_display)\n",
    "    axes[0].set_ylabel('Error')\n",
    "\n",
    "    if is_logx:\n",
    "        axes[0].set_yscale('log') \n",
    "        axes[0].set_xscale('log', basex=2)\n",
    "    \n",
    "    (df.loc[df.groupby('n')['err'].idxmin()]\n",
    "            .set_index('n')\n",
    "            .rename({'err': 'Min Error', parameter_name: parameter_display}, axis=1)\n",
    "            .plot(ax=axes[1]))\n",
    "\n",
    "    axes[1].set_yscale('log', basey=2)\n",
    "    \n",
    "    return axes"
   ]
  },
  {
   "cell_type": "code",
   "execution_count": null,
   "metadata": {},
   "outputs": [],
   "source": [
    "simple_hist_df = apply_experiment(lambda *args: simple_histogram_CDF(*args)[1],\n",
    "                                  range(1, 16),\n",
    "                                  'alpha')\n",
    "\n",
    "plot_experiment(simple_hist_df, 'alpha', '$\\\\alpha^*$', is_logx=True);"
   ]
  },
  {
   "cell_type": "markdown",
   "metadata": {},
   "source": [
    "### Discussion"
   ]
  },
  {
   "cell_type": "markdown",
   "metadata": {},
   "source": [
    "## 2.3 Tree Histogram CDF Algorithm Implementation"
   ]
  },
  {
   "cell_type": "markdown",
   "metadata": {},
   "source": [
    "### 2.3.a\n",
    "The simple histogram CDF algorithm (SH) is $\\epsilon$-DP. The tree histogram CDF algorithm (TH) can be seen as a composition of $\\ell$ times the SH algorithms with a privacy budget of $\\epsilon/\\ell$. In composition, the privacy budget parameter is additive; therefore the TH algorithm is $\\epsilon$-DP.\n",
    "\n",
    "### 2.3.b\n",
    "The interval $[0,1)$ can be decomposited into a binary tree with $\\ell$ depth (or levels), in which every node split the interval into half. In each node we have Y the gives the sum of PMF in this itnerval. For example, with $\\ell = 3$ we get:\n",
    "```\n",
    "[0,1) \n",
    "-> [0, 1/2) - Y_{1,1}\n",
    "    -> [0, 1/4) - Y_{2,1}\n",
    "        -> [0, 1/8) - Y_{3,1}\n",
    "        -> [1/8, 2/8) - Y_{3,2}\n",
    "    -> [1/4, 2/4) - Y_{2, 2}\n",
    "        -> [2/8, 3/8) - Y_{3,3}\n",
    "        -> [3/8, 4/8) - Y_{3,4}\n",
    "-> [1/2, 1) - Y_{1,2}\n",
    "   ...\n",
    "```\n",
    "\n",
    "Let $t \\in [0,1)$ be the value of which we would like to compute $CDF(t)$. We are going to represent $CDF(t) as the sum of $\\ell$-times $Y$, where each exactly one $Y$ is taken from each level ($k$ in the algorithm description). We will show the first step, and the following ones apply similarly:\n",
    "\n",
    "- We start at [0,1). Its middle point is m=1/2.\n",
    "- If $t \\geq m$, then we can take $Y1,1$ ($=CDF(1/2)$) to our sum (that initialized with zero). Then we go to the RIGHT interval $[1/2, 1)$ and continue from there.\n",
    "- If $t < m$, then we don't add any Y in this step, because only at a lower level we will have an interval that all of its elements are smaller than $t$.\n",
    "- When we reach the leaf interval, which is the smallest interval in the tree that contains $t$, we use the \"uniform approximation\" term (second) from the SH algorithm.\n",
    "\n",
    "\n",
    "### 2.3.c"
   ]
  },
  {
   "cell_type": "code",
   "execution_count": null,
   "metadata": {},
   "outputs": [],
   "source": [
    "def tree_histogram_CDF(x, n_levels, epsilon):\n",
    "\n",
    "    adjusted_epsilon = epsilon / n_levels\n",
    "    simple_hist_tree = OrderedDict()\n",
    "\n",
    "    for level in range(1, n_levels+1):\n",
    "        alpha = 2**-level\n",
    "        noisy_hist, _ = simple_histogram_CDF(x, alpha, adjusted_epsilon)\n",
    "        simple_hist_tree[level] = (alpha, noisy_hist)\n",
    "\n",
    "    \n",
    "    def cdfh(t):\n",
    "\n",
    "        acc_prob = 0\n",
    "        \n",
    "        # In this implementation we don't use the middle point explicitly,\n",
    "        # but keep track of the right endpoint of the interval \n",
    "        right_endpoint = 0\n",
    "        \n",
    "        for level, (alpha, hist) in simple_hist_tree.items():\n",
    "            if t >= right_endpoint + alpha:\n",
    "                right_endpoint += alpha\n",
    "                level_bin_index = _get_bin_index(t, len(hist)) - 1\n",
    "                acc_prob += hist[level_bin_index]\n",
    "\n",
    "        # \"Uniform approximaton\" for the leaf interval, as in the SH algorithm\n",
    "        last_bin_index = _get_bin_index(t, len(hist))\n",
    "        last_level_part = (t/alpha - last_bin_index) * hist[last_bin_index]\n",
    "        acc_prob += last_level_part\n",
    "        \n",
    "        return acc_prob\n",
    "    \n",
    "    return cdfh"
   ]
  },
  {
   "cell_type": "markdown",
   "metadata": {},
   "source": [
    "## 2.4 Tree Histogram CDF Algorithm Testing"
   ]
  },
  {
   "cell_type": "code",
   "execution_count": null,
   "metadata": {},
   "outputs": [],
   "source": [
    "tree_hist_df = apply_experiment(tree_histogram_CDF,\n",
    "                                  range(1, 16),\n",
    "                                  'n_levels')\n",
    "\n",
    "plot_experiment(tree_hist_df, 'n_levels', '$\\\\ell^*$');"
   ]
  },
  {
   "cell_type": "markdown",
   "metadata": {},
   "source": [
    "### Discussion"
   ]
  }
 ],
 "metadata": {
  "kernelspec": {
   "display_name": "Python 3",
   "language": "python",
   "name": "python3"
  },
  "language_info": {
   "codemirror_mode": {
    "name": "ipython",
    "version": 3
   },
   "file_extension": ".py",
   "mimetype": "text/x-python",
   "name": "python",
   "nbconvert_exporter": "python",
   "pygments_lexer": "ipython3",
   "version": "3.7.6"
  }
 },
 "nbformat": 4,
 "nbformat_minor": 4
}

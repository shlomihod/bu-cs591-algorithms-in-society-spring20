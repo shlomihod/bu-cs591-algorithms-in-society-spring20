{
 "cells": [
  {
   "cell_type": "markdown",
   "metadata": {},
   "source": [
    "# Reconstruction a Running Counter"
   ]
  },
  {
   "cell_type": "code",
   "execution_count": 1,
   "metadata": {},
   "outputs": [],
   "source": [
    "from collections import namedtuple\n",
    "import time\n",
    "\n",
    "import numpy as np\n",
    "import pandas as pd\n",
    "import matplotlib.pylab as plt\n",
    "import seaborn as sns\n",
    "\n",
    "sns.set(rc={'figure.figsize': (10, 7)}, font_scale=1.5)\n",
    "sns.set_style('white')"
   ]
  },
  {
   "cell_type": "markdown",
   "metadata": {},
   "source": [
    "## Setup"
   ]
  },
  {
   "cell_type": "markdown",
   "metadata": {},
   "source": [
    "### Data"
   ]
  },
  {
   "cell_type": "code",
   "execution_count": 2,
   "metadata": {},
   "outputs": [],
   "source": [
    "RunningCounter = namedtuple('RunningCounter',\n",
    "                            ['secret',  # s\n",
    "                             'noise',   # z\n",
    "                             'output',  #a\n",
    "                             'prior_guess'])  # w\n",
    "\n",
    "def generate_random_bits(n_bits, p=None):\n",
    "    \"\"\"Generte random sequence of bits in a given probaility (defualt=0.5).\"\"\"\n",
    "    \n",
    "    assert p is None or 0 <= p <= 1\n",
    "    probs = (1-p, p) if p is not None else None\n",
    "    return np.random.choice((0, 1), size=n_bits, p=probs)\n",
    "\n",
    "\n",
    "def generate_running_counter(n_bits, prior=None):\n",
    "    \"\"\"Generate random running counter problem.\"\"\"\n",
    "\n",
    "    secret = generate_random_bits(n_bits)\n",
    "    noise = generate_random_bits(n_bits)\n",
    "    output = np.cumsum(secret) + noise\n",
    "    \n",
    "    prior_guess = (secret ^ generate_random_bits(n_bits, p=(1-prior))\n",
    "                   if prior is not None else None)\n",
    "    \n",
    "    return RunningCounter(secret, noise, output, prior_guess)"
   ]
  },
  {
   "cell_type": "markdown",
   "metadata": {},
   "source": [
    "### Attack"
   ]
  },
  {
   "cell_type": "code",
   "execution_count": 3,
   "metadata": {},
   "outputs": [],
   "source": [
    "def compute_diffs(vec, up_to_delta, adjust_length=True):\n",
    "    \"\"\"\n",
    "    Compute the all the differences vectors up to given delta.\n",
    "    \"\"\"\n",
    "\n",
    "    diffs = {}\n",
    "    for delta in range(1, up_to_delta+1):\n",
    "        diff_result = vec[delta:] - vec[:-delta]\n",
    "\n",
    "        # Adjust the length of all of the difference vector\n",
    "        # to be the same\n",
    "        # (as the shortest vector, i.e. the one with the highest delta)\n",
    "        if adjust_length:\n",
    "            diff_result = diff_result[up_to_delta-delta:]\n",
    "\n",
    "        diffs[f'diff_{delta}'] = diff_result\n",
    "        \n",
    "    return diffs"
   ]
  },
  {
   "cell_type": "code",
   "execution_count": 4,
   "metadata": {},
   "outputs": [],
   "source": [
    "def build_condition_sample_df(running_counter, delta_up_to,\n",
    "                              prior=None, with_secret=False):\n",
    "    \"\"\"\n",
    "    Build a DataFrame of the data with the differences.\n",
    "    \"\"\"\n",
    "\n",
    "    samples = compute_diffs(running_counter.output,\n",
    "                            delta_up_to)\n",
    "    condition_cols = list(samples.keys())\n",
    "    \n",
    "    if with_secret:\n",
    "        samples['secret'] = running_counter.secret[delta_up_to//2\n",
    "                                                   :-delta_up_to//2]\n",
    "    if prior is not None:\n",
    "        samples['prior_guess'] = running_counter.prior_guess[delta_up_to//2\n",
    "                                                             :-delta_up_to//2]\n",
    "        condition_cols.append('prior_guess')\n",
    "\n",
    "    df = pd.DataFrame(samples)\n",
    "    \n",
    "    return df, condition_cols"
   ]
  },
  {
   "cell_type": "code",
   "execution_count": 5,
   "metadata": {},
   "outputs": [],
   "source": [
    "def learn_posterior(n_bits, delta_up_to, prior=None):\n",
    "    \"\"\"\n",
    "    Learn empirically the posterior Pr[s | diffs, (optional prior)].\"\"\"\n",
    "\n",
    "    simulation = generate_running_counter(n_bits,\n",
    "                                          prior)\n",
    "    \n",
    "    samples_df, condition_cols = build_condition_sample_df(simulation, \n",
    "                                                           delta_up_to,\n",
    "                                                           prior,\n",
    "                                                           with_secret=True)\n",
    "    \n",
    "    posterior =  (samples_df\n",
    "                  .groupby(condition_cols)['secret']\n",
    "                  .mean()\n",
    "                  .round()\n",
    "                  .astype(int)\n",
    "                  .rename('secret_guess')\n",
    "                  .reset_index())\n",
    "\n",
    "    return posterior"
   ]
  },
  {
   "cell_type": "code",
   "execution_count": 6,
   "metadata": {},
   "outputs": [],
   "source": [
    "def perfrom_attack(rn, posterior, delta_up_to, prior=None):\n",
    "    \"\"\"Perform the attac on a given running counter problem.\"\"\"\n",
    "\n",
    "    rn_df, condition_cols = build_condition_sample_df(rn,\n",
    "                                                      delta_up_to,\n",
    "                                                      prior=prior,\n",
    "                                                      with_secret=False)\n",
    "    \n",
    "    rn_df = rn_df.merge(posterior, how='left', on=condition_cols)\n",
    "\n",
    "    accuracy = (rn.secret[delta_up_to//2\n",
    "                          :-delta_up_to//2]\n",
    "                == rn_df['secret_guess']).mean()\n",
    "    \n",
    "    return accuracy"
   ]
  },
  {
   "cell_type": "markdown",
   "metadata": {},
   "source": [
    "## Posterior Analysis"
   ]
  },
  {
   "cell_type": "code",
   "execution_count": 7,
   "metadata": {},
   "outputs": [],
   "source": [
    "DELTA_UP_TO = 4\n",
    "N_BITS_PREPERATION = 10**5"
   ]
  },
  {
   "cell_type": "code",
   "execution_count": 8,
   "metadata": {},
   "outputs": [],
   "source": [
    "def analyze_posterior(delta_up_to, n_bits_preperation, prior):\n",
    "    \"\"\"\n",
    "    Print anlysis report of the posterior learning execution time and memory usage.\n",
    "    \"\"\"\n",
    "    \n",
    "    start_time = time.time()\n",
    "    posterior = learn_posterior(n_bits_preperation,\n",
    "                                delta_up_to,\n",
    "                                prior=prior)\n",
    "    end_time = time.time()\n",
    "    \n",
    "    execution_time = end_time - start_time\n",
    "    \n",
    "    n_rows, n_cols = posterior.shape\n",
    "    \n",
    "    n_unique_value_per_diff = {diff_name:\n",
    "                               len(posterior[diff_name].unique().tolist())\n",
    "                               for diff_name in posterior.loc[:,posterior.columns.str.startswith('diff')]}\n",
    "    \n",
    "    print(f'Execution time: {execution_time:.4f} seconds')\n",
    "    print(f'Dimensions: {n_rows} rows x {n_cols} columns')\n",
    "    print(f'Memroy usage: {posterior.memory_usage().sum()} Bytes')\n",
    "    print(f'#Unique values per difference coulumn:\\n{n_unique_value_per_diff}')"
   ]
  },
  {
   "cell_type": "markdown",
   "metadata": {},
   "source": [
    "### Without Prior"
   ]
  },
  {
   "cell_type": "code",
   "execution_count": 9,
   "metadata": {},
   "outputs": [
    {
     "name": "stdout",
     "output_type": "stream",
     "text": [
      "Execution time: 0.0252 seconds\n",
      "Dimensions: 164 rows x 5 columns\n",
      "Memroy usage: 6688 Bytes\n",
      "#Unique values per difference coulumn:\n",
      "{'diff_1': 4, 'diff_2': 5, 'diff_3': 6, 'diff_4': 7}\n"
     ]
    }
   ],
   "source": [
    "analyze_posterior(DELTA_UP_TO, N_BITS_PREPERATION, None)"
   ]
  },
  {
   "cell_type": "markdown",
   "metadata": {},
   "source": [
    "### With Prior"
   ]
  },
  {
   "cell_type": "code",
   "execution_count": 10,
   "metadata": {},
   "outputs": [
    {
     "name": "stdout",
     "output_type": "stream",
     "text": [
      "Execution time: 0.0262 seconds\n",
      "Dimensions: 328 rows x 6 columns\n",
      "Memroy usage: 15872 Bytes\n",
      "#Unique values per difference coulumn:\n",
      "{'diff_1': 4, 'diff_2': 5, 'diff_3': 6, 'diff_4': 7}\n"
     ]
    }
   ],
   "source": [
    "analyze_posterior(DELTA_UP_TO, N_BITS_PREPERATION, 2/3)"
   ]
  },
  {
   "cell_type": "markdown",
   "metadata": {},
   "source": [
    "## Experiments"
   ]
  },
  {
   "cell_type": "code",
   "execution_count": 11,
   "metadata": {},
   "outputs": [],
   "source": [
    "def estimate_accuracy(n_trials,\n",
    "                      delta_up_to,\n",
    "                      n_bits_data,\n",
    "                      n_bits_preperation,\n",
    "                      prior=None):\n",
    "\n",
    "    \"\"\"Run multiple trials of attacks on random data to estimate accuracy.\"\"\"\n",
    "    \n",
    "    # Setup\n",
    "    posterior = learn_posterior(n_bits_preperation,\n",
    "                                delta_up_to,\n",
    "                                prior=prior)\n",
    "    \n",
    "    # Run multiple independent experiments\n",
    "    rn_experiments = (generate_running_counter(n_bits_data, prior)\n",
    "                      for _ in range(n_trials))\n",
    "\n",
    "    accuracies = [perfrom_attack(rn, posterior, delta_up_to, prior)\n",
    "                  for rn in rn_experiments]\n",
    "        \n",
    "    return accuracies"
   ]
  },
  {
   "cell_type": "code",
   "execution_count": 12,
   "metadata": {},
   "outputs": [
    {
     "name": "stdout",
     "output_type": "stream",
     "text": [
      "CPU times: user 6.94 s, sys: 216 ms, total: 7.16 s\n",
      "Wall time: 7.59 s\n"
     ]
    }
   ],
   "source": [
    "%%time\n",
    "\n",
    "N_TRIALS = 100\n",
    "DELTA_UP_TO = 4\n",
    "N_BITS_PREPERATION = 10**5\n",
    "\n",
    "all_accuracies = {(prior, n_bits_data): estimate_accuracy(N_TRIALS,\n",
    "                                    DELTA_UP_TO,\n",
    "                                    n_bits_data,\n",
    "                                    N_BITS_PREPERATION,\n",
    "                                    prior)\n",
    "                      for prior in [None, 2/3]\n",
    "                      for n_bits_data in [100, 500, 1000, 5000, 50000]}"
   ]
  },
  {
   "cell_type": "code",
   "execution_count": 13,
   "metadata": {},
   "outputs": [
    {
     "data": {
      "text/html": [
       "<div>\n",
       "<style scoped>\n",
       "    .dataframe tbody tr th:only-of-type {\n",
       "        vertical-align: middle;\n",
       "    }\n",
       "\n",
       "    .dataframe tbody tr th {\n",
       "        vertical-align: top;\n",
       "    }\n",
       "\n",
       "    .dataframe thead th {\n",
       "        text-align: right;\n",
       "    }\n",
       "</style>\n",
       "<table border=\"1\" class=\"dataframe\">\n",
       "  <thead>\n",
       "    <tr style=\"text-align: right;\">\n",
       "      <th></th>\n",
       "      <th></th>\n",
       "      <th>mean</th>\n",
       "      <th>std</th>\n",
       "    </tr>\n",
       "    <tr>\n",
       "      <th>Prior</th>\n",
       "      <th>Secret Length</th>\n",
       "      <th></th>\n",
       "      <th></th>\n",
       "    </tr>\n",
       "  </thead>\n",
       "  <tbody>\n",
       "    <tr>\n",
       "      <th rowspan=\"5\" valign=\"top\">2/3</th>\n",
       "      <th>100</th>\n",
       "      <td>0.827604</td>\n",
       "      <td>0.035483</td>\n",
       "    </tr>\n",
       "    <tr>\n",
       "      <th>500</th>\n",
       "      <td>0.824637</td>\n",
       "      <td>0.018342</td>\n",
       "    </tr>\n",
       "    <tr>\n",
       "      <th>1000</th>\n",
       "      <td>0.824418</td>\n",
       "      <td>0.014411</td>\n",
       "    </tr>\n",
       "    <tr>\n",
       "      <th>5000</th>\n",
       "      <td>0.823753</td>\n",
       "      <td>0.004822</td>\n",
       "    </tr>\n",
       "    <tr>\n",
       "      <th>50000</th>\n",
       "      <td>0.824150</td>\n",
       "      <td>0.002026</td>\n",
       "    </tr>\n",
       "    <tr>\n",
       "      <th rowspan=\"5\" valign=\"top\">None</th>\n",
       "      <th>100</th>\n",
       "      <td>0.800833</td>\n",
       "      <td>0.039236</td>\n",
       "    </tr>\n",
       "    <tr>\n",
       "      <th>500</th>\n",
       "      <td>0.804919</td>\n",
       "      <td>0.016613</td>\n",
       "    </tr>\n",
       "    <tr>\n",
       "      <th>1000</th>\n",
       "      <td>0.806516</td>\n",
       "      <td>0.010014</td>\n",
       "    </tr>\n",
       "    <tr>\n",
       "      <th>5000</th>\n",
       "      <td>0.804233</td>\n",
       "      <td>0.004943</td>\n",
       "    </tr>\n",
       "    <tr>\n",
       "      <th>50000</th>\n",
       "      <td>0.804783</td>\n",
       "      <td>0.001708</td>\n",
       "    </tr>\n",
       "  </tbody>\n",
       "</table>\n",
       "</div>"
      ],
      "text/plain": [
       "                         mean       std\n",
       "Prior Secret Length                    \n",
       "2/3   100            0.827604  0.035483\n",
       "      500            0.824637  0.018342\n",
       "      1000           0.824418  0.014411\n",
       "      5000           0.823753  0.004822\n",
       "      50000          0.824150  0.002026\n",
       "None  100            0.800833  0.039236\n",
       "      500            0.804919  0.016613\n",
       "      1000           0.806516  0.010014\n",
       "      5000           0.804233  0.004943\n",
       "      50000          0.804783  0.001708"
      ]
     },
     "execution_count": 13,
     "metadata": {},
     "output_type": "execute_result"
    }
   ],
   "source": [
    "accuracies_df = (pd.DataFrame(all_accuracies)\n",
    "                 .melt(var_name=['Prior', 'Secret Length'],\n",
    "                       value_name='Accuracy')\n",
    "                 .replace({np.nan: 'None', 2/3:'2/3'}))\n",
    "\n",
    "stats_df = (accuracies_df\n",
    "            .groupby(['Prior', 'Secret Length'])['Accuracy']\n",
    "            .agg(['mean', 'std']))\n",
    "\n",
    "stats_df"
   ]
  },
  {
   "cell_type": "code",
   "execution_count": 14,
   "metadata": {},
   "outputs": [
    {
     "data": {
      "image/png": "[encoded data removed]",
      "text/plain": [
       "<Figure size 720x504 with 1 Axes>"
      ]
     },
     "metadata": {},
     "output_type": "display_data"
    }
   ],
   "source": [
    "ax = sns.lineplot(x='Secret Length', y='Accuracy', hue='Prior',\n",
    "                  ci=95, data=accuracies_df)\n",
    "\n",
    "ax.set_title('Accuracy per Prior and Secret Length (95% CI)')\n",
    "ax.set_xscale('log')\n",
    "ax.set_ylim(0.78, 0.85)\n",
    "\n",
    "plt.tight_layout()\n",
    "plt.savefig('./plots/rn-acc.png', dpi=300)"
   ]
  }
 ],
 "metadata": {
  "kernelspec": {
   "display_name": "Python 3",
   "language": "python",
   "name": "python3"
  },
  "language_info": {
   "codemirror_mode": {
    "name": "ipython",
    "version": 3
   },
   "file_extension": ".py",
   "mimetype": "text/x-python",
   "name": "python",
   "nbconvert_exporter": "python",
   "pygments_lexer": "ipython3",
   "version": "3.7.6"
  }
 },
 "nbformat": 4,
 "nbformat_minor": 4
}
